{
 "cells": [
  {
   "cell_type": "markdown",
   "metadata": {},
   "source": [
    "# Function Approximation\n",
    "\n",
    "So far, we represented value function by a look-up table: every state has an entry V(s), or state-action pair has an entry Q(s,a)\n",
    "\n",
    "Problems for lage MDPs: too many states/actions to store in memory...thus, too slow to learn the value of each state\n",
    "\n",
    "Solution: Estimate value function by function approximation\n",
    "\n",
    "- Linear combination of features (differentiable)\n",
    "- Neural network (differentiable)\n",
    "- Decision tree (non-d)\n",
    "- Nearest neighbor (non-d)\n",
    "- Fourier/ Wavelet bases (non-d)\n"
   ]
  },
  {
   "cell_type": "code",
   "execution_count": null,
   "metadata": {
    "collapsed": true
   },
   "outputs": [],
   "source": []
  }
 ],
 "metadata": {
  "kernelspec": {
   "display_name": "Python 3",
   "language": "python",
   "name": "python3"
  },
  "language_info": {
   "codemirror_mode": {
    "name": "ipython",
    "version": 3
   },
   "file_extension": ".py",
   "mimetype": "text/x-python",
   "name": "python",
   "nbconvert_exporter": "python",
   "pygments_lexer": "ipython3",
   "version": "3.6.3"
  }
 },
 "nbformat": 4,
 "nbformat_minor": 2
}
